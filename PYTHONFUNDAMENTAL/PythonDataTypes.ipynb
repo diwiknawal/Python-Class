{
 "cells": [
  {
   "cell_type": "code",
   "execution_count": 1,
   "metadata": {},
   "outputs": [
    {
     "name": "stdout",
     "output_type": "stream",
     "text": [
      "<class 'int'>\n"
     ]
    }
   ],
   "source": [
    "#Getting the Data Type\n",
    "#You can get the data type of any object by using the type() function:\n",
    "\n",
    "x = 5\n",
    "print(type(x))"
   ]
  },
  {
   "cell_type": "code",
   "execution_count": 2,
   "metadata": {},
   "outputs": [
    {
     "name": "stdout",
     "output_type": "stream",
     "text": [
      "Hello World\n",
      "20\n",
      "20.5\n",
      "1j\n",
      "['apple', 'banana', 'cherry']\n",
      "('apple', 'banana', 'cherry')\n",
      "range(0, 6)\n",
      "{'name': 'John', 'age': 36}\n",
      "{'cherry', 'banana', 'apple'}\n",
      "frozenset({'cherry', 'banana', 'apple'})\n",
      "True\n",
      "b'\\x00\\x00\\x00\\x00\\x00'\n",
      "bytearray(b'\\x00\\x00\\x00\\x00\\x00')\n"
     ]
    }
   ],
   "source": [
    "#Setting the Specific Data Type\n",
    "#If you want to specify the data type, you can use the following constructor functions:\n",
    "\n",
    "x = str(\"Hello World\")\n",
    "print(x)\n",
    "x = int(20)\n",
    "print(x)\n",
    "x = float(20.5)\n",
    "print(x)\n",
    "x = complex(1j)\n",
    "print(x)\n",
    "x = list((\"apple\", \"banana\", \"cherry\"))\n",
    "print(x)\n",
    "x = tuple((\"apple\", \"banana\", \"cherry\"))\n",
    "print(x)\n",
    "x = range(6)\n",
    "print(x)\n",
    "x = dict(name=\"John\", age=36)\n",
    "print(x)\n",
    "x = set((\"apple\", \"banana\", \"cherry\"))\n",
    "print(x)\n",
    "x = frozenset((\"apple\", \"banana\", \"cherry\"))\n",
    "print(x)\n",
    "x = bool(5)\n",
    "print(x)\n",
    "x = bytes(5)\n",
    "print(x)\n",
    "x = bytearray(5)\n",
    "print(x)"
   ]
  },
  {
   "cell_type": "code",
   "execution_count": 2,
   "metadata": {},
   "outputs": [
    {
     "name": "stdout",
     "output_type": "stream",
     "text": [
      "1\n",
      "2\n",
      "3\n",
      "s1\n",
      "2\n",
      "3.0\n"
     ]
    }
   ],
   "source": [
    "#Specify a Variable Type\n",
    "#There may be times when you want to specify a type on to a variable. This can be done with casting. Python is an object-orientated language, and as such it uses classes to define data types, including its primitive types.\n",
    "\n",
    "#Casting in python is therefore done using constructor functions:\n",
    "\n",
    "#int() - constructs an integer number from an integer literal, a float literal (by removing all decimals), or a string literal (providing the string represents a whole number)\n",
    "#float() - constructs a float number from an integer literal, a float literal or a string literal (providing the string represents a float or an integer)\n",
    "#str() - constructs a string from a wide variety of data types, including strings, integer literals and float literals\n",
    "x = int(1)   # x will be 1\n",
    "y = int(2.8) # y will be 2\n",
    "z = int(\"3\") # z will be 3\n",
    "print(x)\n",
    "print(y)\n",
    "print(z)\n",
    "\n",
    "x = str(\"s1\") # x will be 's1'\n",
    "y = str(2)    # y will be '2'\n",
    "z = str(3.0)  # z will be '3.0'\n",
    "print(x)\n",
    "print(y)\n",
    "print(z)"
   ]
  },
  {
   "cell_type": "code",
   "execution_count": 3,
   "metadata": {},
   "outputs": [
    {
     "name": "stdout",
     "output_type": "stream",
     "text": [
      "Hello\n",
      "Hello\n"
     ]
    }
   ],
   "source": [
    "#Strings\n",
    "#Strings in python are surrounded by either single quotation marks, or double quotation marks.\n",
    "\n",
    "#'hello' is the same as \"hello\".\n",
    "print(\"Hello\")\n",
    "print('Hello')"
   ]
  },
  {
   "cell_type": "code",
   "execution_count": 4,
   "metadata": {},
   "outputs": [
    {
     "name": "stdout",
     "output_type": "stream",
     "text": [
      "It's alright\n",
      "He is called 'Johnny'\n",
      "He is called \"Johnny\"\n"
     ]
    }
   ],
   "source": [
    "#Quotes Inside Quotes\n",
    "#You can use quotes inside a string, as long as they don't match the quotes surrounding the string:\n",
    "print(\"It's alright\")\n",
    "print(\"He is called 'Johnny'\")\n",
    "print('He is called \"Johnny\"')"
   ]
  },
  {
   "cell_type": "code",
   "execution_count": null,
   "metadata": {},
   "outputs": [
    {
     "name": "stdout",
     "output_type": "stream",
     "text": [
      "Lorem ipsum dolor sit amet,\n",
      "consectetur adipiscing elit,\n",
      "sed do eiusmod tempor incididunt\n",
      "ut labore et dolore magna aliqua.\n"
     ]
    }
   ],
   "source": [
    "#Multiline Strings\n",
    "#You can assign a multiline string to a variable by using three quotes:\n",
    "#Or three single quotes:\n",
    "a = \"\"\"Lorem ipsum dolor sit amet,\n",
    "consectetur adipiscing elit,\n",
    "sed do eiusmod tempor incididunt\n",
    "ut labore et dolore magna aliqua.\"\"\"\n",
    "print(a)"
   ]
  },
  {
   "cell_type": "code",
   "execution_count": 6,
   "metadata": {},
   "outputs": [
    {
     "name": "stdout",
     "output_type": "stream",
     "text": [
      "Lorem ipsum dolor sit amet,\n",
      "consectetur adipiscing elit,\n",
      "sed do eiusmod tempor incididunt\n",
      "ut labore et dolore magna aliqua.\n"
     ]
    }
   ],
   "source": [
    "a = '''Lorem ipsum dolor sit amet,\n",
    "consectetur adipiscing elit,\n",
    "sed do eiusmod tempor incididunt\n",
    "ut labore et dolore magna aliqua.'''\n",
    "print(a)"
   ]
  }
 ],
 "metadata": {
  "kernelspec": {
   "display_name": "Python 3",
   "language": "python",
   "name": "python3"
  },
  "language_info": {
   "codemirror_mode": {
    "name": "ipython",
    "version": 3
   },
   "file_extension": ".py",
   "mimetype": "text/x-python",
   "name": "python",
   "nbconvert_exporter": "python",
   "pygments_lexer": "ipython3",
   "version": "3.12.3"
  }
 },
 "nbformat": 4,
 "nbformat_minor": 2
}
